{
 "cells": [
  {
   "cell_type": "code",
   "execution_count": 51,
   "id": "80aea219",
   "metadata": {},
   "outputs": [],
   "source": [
    "import pandas as pd\n",
    "import numpy as np\n"
   ]
  },
  {
   "cell_type": "code",
   "execution_count": 52,
   "id": "84a6827c",
   "metadata": {},
   "outputs": [],
   "source": [
    "df = pd.read_csv('noahs-csv/noahs-customers.csv')"
   ]
  },
  {
   "cell_type": "code",
   "execution_count": 53,
   "id": "76ee7cac",
   "metadata": {},
   "outputs": [
    {
     "data": {
      "text/plain": [
       "(11080, 6)"
      ]
     },
     "execution_count": 53,
     "metadata": {},
     "output_type": "execute_result"
    }
   ],
   "source": [
    "df.shape"
   ]
  },
  {
   "cell_type": "code",
   "execution_count": 54,
   "id": "6d133608",
   "metadata": {},
   "outputs": [
    {
     "data": {
      "text/html": [
       "<div>\n",
       "<style scoped>\n",
       "    .dataframe tbody tr th:only-of-type {\n",
       "        vertical-align: middle;\n",
       "    }\n",
       "\n",
       "    .dataframe tbody tr th {\n",
       "        vertical-align: top;\n",
       "    }\n",
       "\n",
       "    .dataframe thead th {\n",
       "        text-align: right;\n",
       "    }\n",
       "</style>\n",
       "<table border=\"1\" class=\"dataframe\">\n",
       "  <thead>\n",
       "    <tr style=\"text-align: right;\">\n",
       "      <th></th>\n",
       "      <th>customerid</th>\n",
       "      <th>name</th>\n",
       "      <th>address</th>\n",
       "      <th>citystatezip</th>\n",
       "      <th>birthdate</th>\n",
       "      <th>phone</th>\n",
       "    </tr>\n",
       "  </thead>\n",
       "  <tbody>\n",
       "    <tr>\n",
       "      <th>0</th>\n",
       "      <td>1001</td>\n",
       "      <td>Jack Quinn</td>\n",
       "      <td>201 E Park St</td>\n",
       "      <td>Los Angeles, CA 91343</td>\n",
       "      <td>1960-05-14</td>\n",
       "      <td>805-287-8515</td>\n",
       "    </tr>\n",
       "    <tr>\n",
       "      <th>1</th>\n",
       "      <td>1002</td>\n",
       "      <td>David Powell</td>\n",
       "      <td>224C Tysens Ln</td>\n",
       "      <td>Staten Island, NY 10306</td>\n",
       "      <td>1978-04-04</td>\n",
       "      <td>516-768-1652</td>\n",
       "    </tr>\n",
       "    <tr>\n",
       "      <th>2</th>\n",
       "      <td>1003</td>\n",
       "      <td>Carrie Green</td>\n",
       "      <td>1608 W 53rd Way</td>\n",
       "      <td>Tampa, FL 33614</td>\n",
       "      <td>1969-01-21</td>\n",
       "      <td>727-209-0470</td>\n",
       "    </tr>\n",
       "    <tr>\n",
       "      <th>3</th>\n",
       "      <td>1004</td>\n",
       "      <td>Steven Miller</td>\n",
       "      <td>178½ E 7th St</td>\n",
       "      <td>Manhattan, NY 10009</td>\n",
       "      <td>1953-08-17</td>\n",
       "      <td>607-941-9563</td>\n",
       "    </tr>\n",
       "    <tr>\n",
       "      <th>4</th>\n",
       "      <td>1005</td>\n",
       "      <td>Christine Powers</td>\n",
       "      <td>270 W 242nd St</td>\n",
       "      <td>Bronx, NY 10463</td>\n",
       "      <td>1983-06-06</td>\n",
       "      <td>212-759-9043</td>\n",
       "    </tr>\n",
       "  </tbody>\n",
       "</table>\n",
       "</div>"
      ],
      "text/plain": [
       "   customerid              name          address             citystatezip  \\\n",
       "0        1001        Jack Quinn    201 E Park St    Los Angeles, CA 91343   \n",
       "1        1002      David Powell   224C Tysens Ln  Staten Island, NY 10306   \n",
       "2        1003      Carrie Green  1608 W 53rd Way          Tampa, FL 33614   \n",
       "3        1004     Steven Miller    178½ E 7th St      Manhattan, NY 10009   \n",
       "4        1005  Christine Powers   270 W 242nd St          Bronx, NY 10463   \n",
       "\n",
       "    birthdate         phone  \n",
       "0  1960-05-14  805-287-8515  \n",
       "1  1978-04-04  516-768-1652  \n",
       "2  1969-01-21  727-209-0470  \n",
       "3  1953-08-17  607-941-9563  \n",
       "4  1983-06-06  212-759-9043  "
      ]
     },
     "execution_count": 54,
     "metadata": {},
     "output_type": "execute_result"
    }
   ],
   "source": [
    "df.head()"
   ]
  },
  {
   "cell_type": "code",
   "execution_count": 90,
   "id": "e20e0307",
   "metadata": {},
   "outputs": [],
   "source": [
    "number_dictionary = {\n",
    "    '2':'abc',\n",
    "    '3':'def',\n",
    "    '4':'ghi',\n",
    "    '5':'jkl',\n",
    "    '6':'mno',\n",
    "    '7':'pqrs',\n",
    "    '8':'tuv',\n",
    "    '9':'wxyz'\n",
    "}"
   ]
  },
  {
   "cell_type": "code",
   "execution_count": null,
   "id": "4a18ddbb",
   "metadata": {},
   "outputs": [],
   "source": [
    "number_dictionary = {\n",
    "    'abc': 2,\n",
    "    'def':3,\n",
    "    'ghi':4,\n",
    "    'jkl':5,\n",
    "    'mno':6,\n",
    "    'pqrs':7,\n",
    "    'tuv':8,\n",
    "    'wxyz':9\n",
    "}"
   ]
  },
  {
   "cell_type": "code",
   "execution_count": 58,
   "id": "d190e4a6",
   "metadata": {},
   "outputs": [],
   "source": [
    "df['phone_clean'] = df.phone.str.replace('-', '')"
   ]
  },
  {
   "cell_type": "code",
   "execution_count": null,
   "id": "2116db77",
   "metadata": {},
   "outputs": [],
   "source": []
  },
  {
   "cell_type": "code",
   "execution_count": 59,
   "id": "94dee091",
   "metadata": {},
   "outputs": [
    {
     "data": {
      "text/html": [
       "<div>\n",
       "<style scoped>\n",
       "    .dataframe tbody tr th:only-of-type {\n",
       "        vertical-align: middle;\n",
       "    }\n",
       "\n",
       "    .dataframe tbody tr th {\n",
       "        vertical-align: top;\n",
       "    }\n",
       "\n",
       "    .dataframe thead th {\n",
       "        text-align: right;\n",
       "    }\n",
       "</style>\n",
       "<table border=\"1\" class=\"dataframe\">\n",
       "  <thead>\n",
       "    <tr style=\"text-align: right;\">\n",
       "      <th></th>\n",
       "      <th>customerid</th>\n",
       "      <th>name</th>\n",
       "      <th>address</th>\n",
       "      <th>citystatezip</th>\n",
       "      <th>birthdate</th>\n",
       "      <th>phone</th>\n",
       "      <th>phone_clean</th>\n",
       "    </tr>\n",
       "  </thead>\n",
       "  <tbody>\n",
       "    <tr>\n",
       "      <th>0</th>\n",
       "      <td>1001</td>\n",
       "      <td>Jack Quinn</td>\n",
       "      <td>201 E Park St</td>\n",
       "      <td>Los Angeles, CA 91343</td>\n",
       "      <td>1960-05-14</td>\n",
       "      <td>805-287-8515</td>\n",
       "      <td>8052878515</td>\n",
       "    </tr>\n",
       "    <tr>\n",
       "      <th>1</th>\n",
       "      <td>1002</td>\n",
       "      <td>David Powell</td>\n",
       "      <td>224C Tysens Ln</td>\n",
       "      <td>Staten Island, NY 10306</td>\n",
       "      <td>1978-04-04</td>\n",
       "      <td>516-768-1652</td>\n",
       "      <td>5167681652</td>\n",
       "    </tr>\n",
       "    <tr>\n",
       "      <th>2</th>\n",
       "      <td>1003</td>\n",
       "      <td>Carrie Green</td>\n",
       "      <td>1608 W 53rd Way</td>\n",
       "      <td>Tampa, FL 33614</td>\n",
       "      <td>1969-01-21</td>\n",
       "      <td>727-209-0470</td>\n",
       "      <td>7272090470</td>\n",
       "    </tr>\n",
       "    <tr>\n",
       "      <th>3</th>\n",
       "      <td>1004</td>\n",
       "      <td>Steven Miller</td>\n",
       "      <td>178½ E 7th St</td>\n",
       "      <td>Manhattan, NY 10009</td>\n",
       "      <td>1953-08-17</td>\n",
       "      <td>607-941-9563</td>\n",
       "      <td>6079419563</td>\n",
       "    </tr>\n",
       "    <tr>\n",
       "      <th>4</th>\n",
       "      <td>1005</td>\n",
       "      <td>Christine Powers</td>\n",
       "      <td>270 W 242nd St</td>\n",
       "      <td>Bronx, NY 10463</td>\n",
       "      <td>1983-06-06</td>\n",
       "      <td>212-759-9043</td>\n",
       "      <td>2127599043</td>\n",
       "    </tr>\n",
       "  </tbody>\n",
       "</table>\n",
       "</div>"
      ],
      "text/plain": [
       "   customerid              name          address             citystatezip  \\\n",
       "0        1001        Jack Quinn    201 E Park St    Los Angeles, CA 91343   \n",
       "1        1002      David Powell   224C Tysens Ln  Staten Island, NY 10306   \n",
       "2        1003      Carrie Green  1608 W 53rd Way          Tampa, FL 33614   \n",
       "3        1004     Steven Miller    178½ E 7th St      Manhattan, NY 10009   \n",
       "4        1005  Christine Powers   270 W 242nd St          Bronx, NY 10463   \n",
       "\n",
       "    birthdate         phone phone_clean  \n",
       "0  1960-05-14  805-287-8515  8052878515  \n",
       "1  1978-04-04  516-768-1652  5167681652  \n",
       "2  1969-01-21  727-209-0470  7272090470  \n",
       "3  1953-08-17  607-941-9563  6079419563  \n",
       "4  1983-06-06  212-759-9043  2127599043  "
      ]
     },
     "execution_count": 59,
     "metadata": {},
     "output_type": "execute_result"
    }
   ],
   "source": [
    "df.head()"
   ]
  },
  {
   "cell_type": "code",
   "execution_count": 60,
   "id": "cedcdf91",
   "metadata": {},
   "outputs": [
    {
     "data": {
      "text/html": [
       "<div>\n",
       "<style scoped>\n",
       "    .dataframe tbody tr th:only-of-type {\n",
       "        vertical-align: middle;\n",
       "    }\n",
       "\n",
       "    .dataframe tbody tr th {\n",
       "        vertical-align: top;\n",
       "    }\n",
       "\n",
       "    .dataframe thead th {\n",
       "        text-align: right;\n",
       "    }\n",
       "</style>\n",
       "<table border=\"1\" class=\"dataframe\">\n",
       "  <thead>\n",
       "    <tr style=\"text-align: right;\">\n",
       "      <th></th>\n",
       "      <th>customerid</th>\n",
       "      <th>name</th>\n",
       "      <th>address</th>\n",
       "      <th>citystatezip</th>\n",
       "      <th>birthdate</th>\n",
       "      <th>phone</th>\n",
       "      <th>phone_clean</th>\n",
       "    </tr>\n",
       "  </thead>\n",
       "  <tbody>\n",
       "    <tr>\n",
       "      <th>0</th>\n",
       "      <td>1001</td>\n",
       "      <td>Jack Quinn</td>\n",
       "      <td>201 E Park St</td>\n",
       "      <td>Los Angeles, CA 91343</td>\n",
       "      <td>1960-05-14</td>\n",
       "      <td>805-287-8515</td>\n",
       "      <td>8052878515</td>\n",
       "    </tr>\n",
       "    <tr>\n",
       "      <th>1</th>\n",
       "      <td>1002</td>\n",
       "      <td>David Powell</td>\n",
       "      <td>224C Tysens Ln</td>\n",
       "      <td>Staten Island, NY 10306</td>\n",
       "      <td>1978-04-04</td>\n",
       "      <td>516-768-1652</td>\n",
       "      <td>5167681652</td>\n",
       "    </tr>\n",
       "    <tr>\n",
       "      <th>2</th>\n",
       "      <td>1003</td>\n",
       "      <td>Carrie Green</td>\n",
       "      <td>1608 W 53rd Way</td>\n",
       "      <td>Tampa, FL 33614</td>\n",
       "      <td>1969-01-21</td>\n",
       "      <td>727-209-0470</td>\n",
       "      <td>7272090470</td>\n",
       "    </tr>\n",
       "    <tr>\n",
       "      <th>3</th>\n",
       "      <td>1004</td>\n",
       "      <td>Steven Miller</td>\n",
       "      <td>178½ E 7th St</td>\n",
       "      <td>Manhattan, NY 10009</td>\n",
       "      <td>1953-08-17</td>\n",
       "      <td>607-941-9563</td>\n",
       "      <td>6079419563</td>\n",
       "    </tr>\n",
       "    <tr>\n",
       "      <th>4</th>\n",
       "      <td>1005</td>\n",
       "      <td>Christine Powers</td>\n",
       "      <td>270 W 242nd St</td>\n",
       "      <td>Bronx, NY 10463</td>\n",
       "      <td>1983-06-06</td>\n",
       "      <td>212-759-9043</td>\n",
       "      <td>2127599043</td>\n",
       "    </tr>\n",
       "  </tbody>\n",
       "</table>\n",
       "</div>"
      ],
      "text/plain": [
       "   customerid              name          address             citystatezip  \\\n",
       "0        1001        Jack Quinn    201 E Park St    Los Angeles, CA 91343   \n",
       "1        1002      David Powell   224C Tysens Ln  Staten Island, NY 10306   \n",
       "2        1003      Carrie Green  1608 W 53rd Way          Tampa, FL 33614   \n",
       "3        1004     Steven Miller    178½ E 7th St      Manhattan, NY 10009   \n",
       "4        1005  Christine Powers   270 W 242nd St          Bronx, NY 10463   \n",
       "\n",
       "    birthdate         phone phone_clean  \n",
       "0  1960-05-14  805-287-8515  8052878515  \n",
       "1  1978-04-04  516-768-1652  5167681652  \n",
       "2  1969-01-21  727-209-0470  7272090470  \n",
       "3  1953-08-17  607-941-9563  6079419563  \n",
       "4  1983-06-06  212-759-9043  2127599043  "
      ]
     },
     "execution_count": 60,
     "metadata": {},
     "output_type": "execute_result"
    }
   ],
   "source": [
    "df.head()"
   ]
  },
  {
   "cell_type": "code",
   "execution_count": 72,
   "id": "e0cf6a0d",
   "metadata": {},
   "outputs": [],
   "source": [
    "df_short_list = df.loc[df.name.str.len()==12]"
   ]
  },
  {
   "cell_type": "code",
   "execution_count": 87,
   "id": "e7186b6a",
   "metadata": {},
   "outputs": [
    {
     "data": {
      "text/plain": [
       "'David Powell'"
      ]
     },
     "execution_count": 87,
     "metadata": {},
     "output_type": "execute_result"
    }
   ],
   "source": [
    "first_name = df_short_list.name[1]\n",
    "first_name"
   ]
  },
  {
   "cell_type": "code",
   "execution_count": 94,
   "id": "e58bbbbf",
   "metadata": {},
   "outputs": [
    {
     "data": {
      "text/plain": [
       "2"
      ]
     },
     "execution_count": 94,
     "metadata": {},
     "output_type": "execute_result"
    }
   ],
   "source": [
    "number_dictionary['abc']"
   ]
  },
  {
   "cell_type": "code",
   "execution_count": 97,
   "id": "c986cf2a",
   "metadata": {},
   "outputs": [
    {
     "data": {
      "text/plain": [
       "False"
      ]
     },
     "execution_count": 97,
     "metadata": {},
     "output_type": "execute_result"
    }
   ],
   "source": [
    "'d' in number_dictionary.keys()"
   ]
  },
  {
   "cell_type": "code",
   "execution_count": 91,
   "id": "9318190a",
   "metadata": {},
   "outputs": [
    {
     "ename": "TypeError",
     "evalue": "argument of type 'builtin_function_or_method' is not iterable",
     "output_type": "error",
     "traceback": [
      "\u001b[0;31m---------------------------------------------------------------------------\u001b[0m",
      "\u001b[0;31mTypeError\u001b[0m                                 Traceback (most recent call last)",
      "\u001b[0;32m/tmp/ipykernel_4829/3942741002.py\u001b[0m in \u001b[0;36m<module>\u001b[0;34m\u001b[0m\n\u001b[1;32m      1\u001b[0m \u001b[0mfirst_number\u001b[0m \u001b[0;34m=\u001b[0m \u001b[0;34m[\u001b[0m\u001b[0;34m]\u001b[0m\u001b[0;34m\u001b[0m\u001b[0;34m\u001b[0m\u001b[0m\n\u001b[1;32m      2\u001b[0m \u001b[0;32mfor\u001b[0m \u001b[0mletter\u001b[0m \u001b[0;32min\u001b[0m \u001b[0mfirst_name\u001b[0m\u001b[0;34m:\u001b[0m\u001b[0;34m\u001b[0m\u001b[0;34m\u001b[0m\u001b[0m\n\u001b[0;32m----> 3\u001b[0;31m     \u001b[0;32mif\u001b[0m \u001b[0mletter\u001b[0m \u001b[0;32min\u001b[0m \u001b[0mnumber_dictionary\u001b[0m\u001b[0;34m.\u001b[0m\u001b[0mkeys\u001b[0m\u001b[0;34m:\u001b[0m\u001b[0;34m\u001b[0m\u001b[0;34m\u001b[0m\u001b[0m\n\u001b[0m\u001b[1;32m      4\u001b[0m         \u001b[0mfirst_number\u001b[0m\u001b[0;34m.\u001b[0m\u001b[0mappend\u001b[0m\u001b[0;34m(\u001b[0m\u001b[0mnumber_dictionary\u001b[0m\u001b[0;34m.\u001b[0m\u001b[0mvalues\u001b[0m\u001b[0;34m(\u001b[0m\u001b[0;34m)\u001b[0m\u001b[0;34m)\u001b[0m\u001b[0;34m\u001b[0m\u001b[0;34m\u001b[0m\u001b[0m\n\u001b[1;32m      5\u001b[0m \u001b[0;34m\u001b[0m\u001b[0m\n",
      "\u001b[0;31mTypeError\u001b[0m: argument of type 'builtin_function_or_method' is not iterable"
     ]
    }
   ],
   "source": [
    "first_number = []\n",
    "for letter in first_name:\n",
    "    if letter in number_dictionary.keys():\n",
    "        first_number.append(number_dictionary.values())\n",
    "    "
   ]
  },
  {
   "cell_type": "code",
   "execution_count": 64,
   "id": "fcb4c7d7",
   "metadata": {},
   "outputs": [
    {
     "data": {
      "text/html": [
       "<div>\n",
       "<style scoped>\n",
       "    .dataframe tbody tr th:only-of-type {\n",
       "        vertical-align: middle;\n",
       "    }\n",
       "\n",
       "    .dataframe tbody tr th {\n",
       "        vertical-align: top;\n",
       "    }\n",
       "\n",
       "    .dataframe thead th {\n",
       "        text-align: right;\n",
       "    }\n",
       "</style>\n",
       "<table border=\"1\" class=\"dataframe\">\n",
       "  <thead>\n",
       "    <tr style=\"text-align: right;\">\n",
       "      <th></th>\n",
       "      <th>customerid</th>\n",
       "      <th>name</th>\n",
       "      <th>address</th>\n",
       "      <th>citystatezip</th>\n",
       "      <th>birthdate</th>\n",
       "      <th>phone</th>\n",
       "      <th>phone_clean</th>\n",
       "    </tr>\n",
       "  </thead>\n",
       "  <tbody>\n",
       "    <tr>\n",
       "      <th>1</th>\n",
       "      <td>1002</td>\n",
       "      <td>David Powell</td>\n",
       "      <td>224C Tysens Ln</td>\n",
       "      <td>Staten Island, NY 10306</td>\n",
       "      <td>1978-04-04</td>\n",
       "      <td>516-768-1652</td>\n",
       "      <td>5167681652</td>\n",
       "    </tr>\n",
       "    <tr>\n",
       "      <th>2</th>\n",
       "      <td>1003</td>\n",
       "      <td>Carrie Green</td>\n",
       "      <td>1608 W 53rd Way</td>\n",
       "      <td>Tampa, FL 33614</td>\n",
       "      <td>1969-01-21</td>\n",
       "      <td>727-209-0470</td>\n",
       "      <td>7272090470</td>\n",
       "    </tr>\n",
       "    <tr>\n",
       "      <th>6</th>\n",
       "      <td>1007</td>\n",
       "      <td>Mark Collins</td>\n",
       "      <td>14-47 110th St</td>\n",
       "      <td>College Point, NY 11356</td>\n",
       "      <td>1967-04-14</td>\n",
       "      <td>585-554-1963</td>\n",
       "      <td>5855541963</td>\n",
       "    </tr>\n",
       "    <tr>\n",
       "      <th>7</th>\n",
       "      <td>1008</td>\n",
       "      <td>Jill Stevens</td>\n",
       "      <td>735A Amsterdam Ave</td>\n",
       "      <td>Manhattan, NY 10025</td>\n",
       "      <td>1959-06-11</td>\n",
       "      <td>516-307-0443</td>\n",
       "      <td>5163070443</td>\n",
       "    </tr>\n",
       "    <tr>\n",
       "      <th>22</th>\n",
       "      <td>1023</td>\n",
       "      <td>Paul Watkins</td>\n",
       "      <td>243B Moore St</td>\n",
       "      <td>Brooklyn, NY 11206</td>\n",
       "      <td>1977-11-11</td>\n",
       "      <td>914-993-3164</td>\n",
       "      <td>9149933164</td>\n",
       "    </tr>\n",
       "    <tr>\n",
       "      <th>...</th>\n",
       "      <td>...</td>\n",
       "      <td>...</td>\n",
       "      <td>...</td>\n",
       "      <td>...</td>\n",
       "      <td>...</td>\n",
       "      <td>...</td>\n",
       "      <td>...</td>\n",
       "    </tr>\n",
       "    <tr>\n",
       "      <th>11051</th>\n",
       "      <td>12051</td>\n",
       "      <td>Angela Stone</td>\n",
       "      <td>979 Washington Ave</td>\n",
       "      <td>Brooklyn, NY 11238</td>\n",
       "      <td>1983-07-17</td>\n",
       "      <td>680-936-3434</td>\n",
       "      <td>6809363434</td>\n",
       "    </tr>\n",
       "    <tr>\n",
       "      <th>11054</th>\n",
       "      <td>12054</td>\n",
       "      <td>Ronald Chang</td>\n",
       "      <td>5418 Fieldston Rd</td>\n",
       "      <td>Bronx, NY 10471</td>\n",
       "      <td>1957-01-23</td>\n",
       "      <td>516-768-8895</td>\n",
       "      <td>5167688895</td>\n",
       "    </tr>\n",
       "    <tr>\n",
       "      <th>11055</th>\n",
       "      <td>12055</td>\n",
       "      <td>Kevin Becker</td>\n",
       "      <td>110-35 113th St</td>\n",
       "      <td>South Ozone Park, NY 11420</td>\n",
       "      <td>1980-08-18</td>\n",
       "      <td>585-798-5007</td>\n",
       "      <td>5857985007</td>\n",
       "    </tr>\n",
       "    <tr>\n",
       "      <th>11065</th>\n",
       "      <td>12065</td>\n",
       "      <td>Jill Stevens</td>\n",
       "      <td>3100 Cedar St</td>\n",
       "      <td>Los Angeles, CA 91405</td>\n",
       "      <td>1944-03-12</td>\n",
       "      <td>805-490-9520</td>\n",
       "      <td>8054909520</td>\n",
       "    </tr>\n",
       "    <tr>\n",
       "      <th>11076</th>\n",
       "      <td>12076</td>\n",
       "      <td>Kevin Cooper</td>\n",
       "      <td>360 Edgecombe Ave</td>\n",
       "      <td>Manhattan, NY 10031</td>\n",
       "      <td>1994-07-22</td>\n",
       "      <td>315-496-6981</td>\n",
       "      <td>3154966981</td>\n",
       "    </tr>\n",
       "  </tbody>\n",
       "</table>\n",
       "<p>1775 rows × 7 columns</p>\n",
       "</div>"
      ],
      "text/plain": [
       "       customerid          name             address  \\\n",
       "1            1002  David Powell      224C Tysens Ln   \n",
       "2            1003  Carrie Green     1608 W 53rd Way   \n",
       "6            1007  Mark Collins      14-47 110th St   \n",
       "7            1008  Jill Stevens  735A Amsterdam Ave   \n",
       "22           1023  Paul Watkins       243B Moore St   \n",
       "...           ...           ...                 ...   \n",
       "11051       12051  Angela Stone  979 Washington Ave   \n",
       "11054       12054  Ronald Chang   5418 Fieldston Rd   \n",
       "11055       12055  Kevin Becker     110-35 113th St   \n",
       "11065       12065  Jill Stevens       3100 Cedar St   \n",
       "11076       12076  Kevin Cooper   360 Edgecombe Ave   \n",
       "\n",
       "                     citystatezip   birthdate         phone phone_clean  \n",
       "1         Staten Island, NY 10306  1978-04-04  516-768-1652  5167681652  \n",
       "2                 Tampa, FL 33614  1969-01-21  727-209-0470  7272090470  \n",
       "6         College Point, NY 11356  1967-04-14  585-554-1963  5855541963  \n",
       "7             Manhattan, NY 10025  1959-06-11  516-307-0443  5163070443  \n",
       "22             Brooklyn, NY 11206  1977-11-11  914-993-3164  9149933164  \n",
       "...                           ...         ...           ...         ...  \n",
       "11051          Brooklyn, NY 11238  1983-07-17  680-936-3434  6809363434  \n",
       "11054             Bronx, NY 10471  1957-01-23  516-768-8895  5167688895  \n",
       "11055  South Ozone Park, NY 11420  1980-08-18  585-798-5007  5857985007  \n",
       "11065       Los Angeles, CA 91405  1944-03-12  805-490-9520  8054909520  \n",
       "11076         Manhattan, NY 10031  1994-07-22  315-496-6981  3154966981  \n",
       "\n",
       "[1775 rows x 7 columns]"
      ]
     },
     "execution_count": 64,
     "metadata": {},
     "output_type": "execute_result"
    }
   ],
   "source": [
    "short_list[0].\n"
   ]
  },
  {
   "cell_type": "code",
   "execution_count": null,
   "id": "57cc189d",
   "metadata": {},
   "outputs": [],
   "source": [
    "num_lis = []\n",
    "for name in df.name:\n",
    "    name.split()"
   ]
  },
  {
   "cell_type": "code",
   "execution_count": null,
   "id": "23720460",
   "metadata": {},
   "outputs": [],
   "source": [
    "df['phone_to_text'] = "
   ]
  },
  {
   "cell_type": "code",
   "execution_count": 25,
   "id": "6c290d40",
   "metadata": {},
   "outputs": [
    {
     "ename": "TypeError",
     "evalue": "unhashable type: 'Series'",
     "output_type": "error",
     "traceback": [
      "\u001b[0;31m---------------------------------------------------------------------------\u001b[0m",
      "\u001b[0;31mTypeError\u001b[0m                                 Traceback (most recent call last)",
      "\u001b[0;32m/tmp/ipykernel_4829/2780736435.py\u001b[0m in \u001b[0;36m<module>\u001b[0;34m\u001b[0m\n\u001b[0;32m----> 1\u001b[0;31m \u001b[0;32mif\u001b[0m \u001b[0mdf\u001b[0m\u001b[0;34m.\u001b[0m\u001b[0mname\u001b[0m \u001b[0;32min\u001b[0m \u001b[0mnumber_dictionary\u001b[0m\u001b[0;34m:\u001b[0m\u001b[0;34m\u001b[0m\u001b[0;34m\u001b[0m\u001b[0m\n\u001b[0m\u001b[1;32m      2\u001b[0m     \u001b[0mprint\u001b[0m\u001b[0;34m(\u001b[0m\u001b[0mok\u001b[0m\u001b[0;34m)\u001b[0m\u001b[0;34m\u001b[0m\u001b[0;34m\u001b[0m\u001b[0m\n",
      "\u001b[0;31mTypeError\u001b[0m: unhashable type: 'Series'"
     ]
    }
   ],
   "source": [
    "if df.name in number_dictionary:\n",
    "    print(ok)"
   ]
  },
  {
   "cell_type": "code",
   "execution_count": null,
   "id": "bda140eb",
   "metadata": {},
   "outputs": [],
   "source": []
  },
  {
   "cell_type": "code",
   "execution_count": 11,
   "id": "8524cd32",
   "metadata": {},
   "outputs": [
    {
     "data": {
      "text/plain": [
       "12"
      ]
     },
     "execution_count": 11,
     "metadata": {},
     "output_type": "execute_result"
    }
   ],
   "source": [
    "len(df['phone'][0])"
   ]
  },
  {
   "cell_type": "code",
   "execution_count": 12,
   "id": "964d6ca8",
   "metadata": {},
   "outputs": [
    {
     "data": {
      "text/plain": [
       "0          Jack Quinn\n",
       "1        David Powell\n",
       "2        Carrie Green\n",
       "3       Steven Miller\n",
       "4    Christine Powers\n",
       "Name: name, dtype: object"
      ]
     },
     "execution_count": 12,
     "metadata": {},
     "output_type": "execute_result"
    }
   ],
   "source": [
    "df['name'].head()"
   ]
  },
  {
   "cell_type": "code",
   "execution_count": 13,
   "id": "76bf8452",
   "metadata": {},
   "outputs": [
    {
     "data": {
      "text/plain": [
       "'Zoe Nunez'"
      ]
     },
     "execution_count": 13,
     "metadata": {},
     "output_type": "execute_result"
    }
   ],
   "source": [
    "df['name'].max()"
   ]
  },
  {
   "cell_type": "code",
   "execution_count": 15,
   "id": "aa7cfd61",
   "metadata": {},
   "outputs": [
    {
     "data": {
      "text/plain": [
       "30"
      ]
     },
     "execution_count": 15,
     "metadata": {},
     "output_type": "execute_result"
    }
   ],
   "source": [
    "df.name.str.len().max()"
   ]
  },
  {
   "cell_type": "code",
   "execution_count": 62,
   "id": "e07e4551",
   "metadata": {},
   "outputs": [],
   "source": [
    "short_list = df.loc[df.name.str.len()==12]"
   ]
  },
  {
   "cell_type": "code",
   "execution_count": 19,
   "id": "a60c870e",
   "metadata": {},
   "outputs": [
    {
     "data": {
      "text/plain": [
       "customerid                    2032\n",
       "name                  Krista Adams\n",
       "address            134-19 26th Ave\n",
       "citystatezip    Flushing, NY 11354\n",
       "birthdate               1962-06-22\n",
       "phone                 680-498-6246\n",
       "Name: 1031, dtype: object"
      ]
     },
     "execution_count": 19,
     "metadata": {},
     "output_type": "execute_result"
    }
   ],
   "source": [
    "df.iloc[1031]"
   ]
  },
  {
   "cell_type": "code",
   "execution_count": 16,
   "id": "67a9ccbf",
   "metadata": {},
   "outputs": [
    {
     "ename": "ValueError",
     "evalue": "either both or neither of x and y should be given",
     "output_type": "error",
     "traceback": [
      "\u001b[0;31m---------------------------------------------------------------------------\u001b[0m",
      "\u001b[0;31mValueError\u001b[0m                                Traceback (most recent call last)",
      "\u001b[0;32m/tmp/ipykernel_4829/3971144419.py\u001b[0m in \u001b[0;36m<module>\u001b[0;34m\u001b[0m\n\u001b[0;32m----> 1\u001b[0;31m \u001b[0mnp\u001b[0m\u001b[0;34m.\u001b[0m\u001b[0mwhere\u001b[0m\u001b[0;34m(\u001b[0m\u001b[0mdf\u001b[0m\u001b[0;34m.\u001b[0m\u001b[0mname\u001b[0m\u001b[0;34m.\u001b[0m\u001b[0mstr\u001b[0m\u001b[0;34m.\u001b[0m\u001b[0mlen\u001b[0m\u001b[0;34m(\u001b[0m\u001b[0;34m)\u001b[0m\u001b[0;34m.\u001b[0m\u001b[0mmax\u001b[0m\u001b[0;34m(\u001b[0m\u001b[0;34m)\u001b[0m \u001b[0;34m==\u001b[0m \u001b[0;36m30\u001b[0m\u001b[0;34m,\u001b[0m\u001b[0mdf\u001b[0m\u001b[0;34m[\u001b[0m\u001b[0;34m'name'\u001b[0m\u001b[0;34m]\u001b[0m\u001b[0;34m)\u001b[0m\u001b[0;34m\u001b[0m\u001b[0;34m\u001b[0m\u001b[0m\n\u001b[0m",
      "\u001b[0;32m~/.pyenv/versions/3.8.12/envs/lewagon/lib/python3.8/site-packages/numpy/core/overrides.py\u001b[0m in \u001b[0;36mwhere\u001b[0;34m(*args, **kwargs)\u001b[0m\n",
      "\u001b[0;31mValueError\u001b[0m: either both or neither of x and y should be given"
     ]
    }
   ],
   "source": [
    "np.where(df.name.str.len().max() == 30,df['name'])"
   ]
  }
 ],
 "metadata": {
  "kernelspec": {
   "display_name": "Python 3 (ipykernel)",
   "language": "python",
   "name": "python3"
  },
  "language_info": {
   "codemirror_mode": {
    "name": "ipython",
    "version": 3
   },
   "file_extension": ".py",
   "mimetype": "text/x-python",
   "name": "python",
   "nbconvert_exporter": "python",
   "pygments_lexer": "ipython3",
   "version": "3.8.12"
  },
  "toc": {
   "base_numbering": 1,
   "nav_menu": {},
   "number_sections": true,
   "sideBar": true,
   "skip_h1_title": false,
   "title_cell": "Table of Contents",
   "title_sidebar": "Contents",
   "toc_cell": false,
   "toc_position": {},
   "toc_section_display": true,
   "toc_window_display": false
  }
 },
 "nbformat": 4,
 "nbformat_minor": 5
}
