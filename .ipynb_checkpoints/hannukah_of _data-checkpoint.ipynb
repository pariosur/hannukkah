{
 "cells": [
  {
   "cell_type": "markdown",
   "id": "8516e31a",
   "metadata": {},
   "source": [
    "# Hannukkah of Data "
   ]
  },
  {
   "cell_type": "markdown",
   "id": "5f9c39c0",
   "metadata": {},
   "source": [
    "## Puzzle 1"
   ]
  },
  {
   "cell_type": "code",
   "execution_count": 1,
   "id": "80aea219",
   "metadata": {},
   "outputs": [],
   "source": [
    "import pandas as pd\n",
    "import numpy as np"
   ]
  },
  {
   "cell_type": "code",
   "execution_count": 2,
   "id": "84a6827c",
   "metadata": {},
   "outputs": [],
   "source": [
    "df = pd.read_csv('noahs-csv/noahs-customers.csv')"
   ]
  },
  {
   "cell_type": "code",
   "execution_count": 3,
   "id": "76ee7cac",
   "metadata": {},
   "outputs": [
    {
     "data": {
      "text/plain": [
       "(11080, 6)"
      ]
     },
     "execution_count": 3,
     "metadata": {},
     "output_type": "execute_result"
    }
   ],
   "source": [
    "df.shape"
   ]
  },
  {
   "cell_type": "code",
   "execution_count": 4,
   "id": "6d133608",
   "metadata": {},
   "outputs": [
    {
     "data": {
      "text/html": [
       "<div>\n",
       "<style scoped>\n",
       "    .dataframe tbody tr th:only-of-type {\n",
       "        vertical-align: middle;\n",
       "    }\n",
       "\n",
       "    .dataframe tbody tr th {\n",
       "        vertical-align: top;\n",
       "    }\n",
       "\n",
       "    .dataframe thead th {\n",
       "        text-align: right;\n",
       "    }\n",
       "</style>\n",
       "<table border=\"1\" class=\"dataframe\">\n",
       "  <thead>\n",
       "    <tr style=\"text-align: right;\">\n",
       "      <th></th>\n",
       "      <th>customerid</th>\n",
       "      <th>name</th>\n",
       "      <th>address</th>\n",
       "      <th>citystatezip</th>\n",
       "      <th>birthdate</th>\n",
       "      <th>phone</th>\n",
       "    </tr>\n",
       "  </thead>\n",
       "  <tbody>\n",
       "    <tr>\n",
       "      <th>0</th>\n",
       "      <td>1001</td>\n",
       "      <td>Jack Quinn</td>\n",
       "      <td>201 E Park St</td>\n",
       "      <td>Los Angeles, CA 91343</td>\n",
       "      <td>1960-05-14</td>\n",
       "      <td>805-287-8515</td>\n",
       "    </tr>\n",
       "    <tr>\n",
       "      <th>1</th>\n",
       "      <td>1002</td>\n",
       "      <td>David Powell</td>\n",
       "      <td>224C Tysens Ln</td>\n",
       "      <td>Staten Island, NY 10306</td>\n",
       "      <td>1978-04-04</td>\n",
       "      <td>516-768-1652</td>\n",
       "    </tr>\n",
       "    <tr>\n",
       "      <th>2</th>\n",
       "      <td>1003</td>\n",
       "      <td>Carrie Green</td>\n",
       "      <td>1608 W 53rd Way</td>\n",
       "      <td>Tampa, FL 33614</td>\n",
       "      <td>1969-01-21</td>\n",
       "      <td>727-209-0470</td>\n",
       "    </tr>\n",
       "    <tr>\n",
       "      <th>3</th>\n",
       "      <td>1004</td>\n",
       "      <td>Steven Miller</td>\n",
       "      <td>178½ E 7th St</td>\n",
       "      <td>Manhattan, NY 10009</td>\n",
       "      <td>1953-08-17</td>\n",
       "      <td>607-941-9563</td>\n",
       "    </tr>\n",
       "    <tr>\n",
       "      <th>4</th>\n",
       "      <td>1005</td>\n",
       "      <td>Christine Powers</td>\n",
       "      <td>270 W 242nd St</td>\n",
       "      <td>Bronx, NY 10463</td>\n",
       "      <td>1983-06-06</td>\n",
       "      <td>212-759-9043</td>\n",
       "    </tr>\n",
       "  </tbody>\n",
       "</table>\n",
       "</div>"
      ],
      "text/plain": [
       "   customerid              name          address             citystatezip  \\\n",
       "0        1001        Jack Quinn    201 E Park St    Los Angeles, CA 91343   \n",
       "1        1002      David Powell   224C Tysens Ln  Staten Island, NY 10306   \n",
       "2        1003      Carrie Green  1608 W 53rd Way          Tampa, FL 33614   \n",
       "3        1004     Steven Miller    178½ E 7th St      Manhattan, NY 10009   \n",
       "4        1005  Christine Powers   270 W 242nd St          Bronx, NY 10463   \n",
       "\n",
       "    birthdate         phone  \n",
       "0  1960-05-14  805-287-8515  \n",
       "1  1978-04-04  516-768-1652  \n",
       "2  1969-01-21  727-209-0470  \n",
       "3  1953-08-17  607-941-9563  \n",
       "4  1983-06-06  212-759-9043  "
      ]
     },
     "execution_count": 4,
     "metadata": {},
     "output_type": "execute_result"
    }
   ],
   "source": [
    "df.head()"
   ]
  },
  {
   "cell_type": "code",
   "execution_count": 5,
   "id": "4a18ddbb",
   "metadata": {},
   "outputs": [],
   "source": [
    "number_dictionary = {\n",
    "    'abc': 2,\n",
    "    'def':3,\n",
    "    'ghi':4,\n",
    "    'jkl':5,\n",
    "    'mno':6,\n",
    "    'pqrs':7,\n",
    "    'tuv':8,\n",
    "    'wxyz':9\n",
    "}"
   ]
  },
  {
   "cell_type": "code",
   "execution_count": 6,
   "id": "d190e4a6",
   "metadata": {},
   "outputs": [],
   "source": [
    "df['phone_clean'] = df.phone.str.replace('-', '')"
   ]
  },
  {
   "cell_type": "code",
   "execution_count": 7,
   "id": "a47b8e76",
   "metadata": {},
   "outputs": [],
   "source": [
    "df['last_name'] = df['name'].apply(lambda x: x.split()[-1].lower())"
   ]
  },
  {
   "cell_type": "code",
   "execution_count": 8,
   "id": "6d926140",
   "metadata": {},
   "outputs": [],
   "source": [
    "df['last_name'] = df['last_name'].str.split('')"
   ]
  },
  {
   "cell_type": "code",
   "execution_count": 9,
   "id": "3e90709b",
   "metadata": {},
   "outputs": [
    {
     "data": {
      "text/html": [
       "<div>\n",
       "<style scoped>\n",
       "    .dataframe tbody tr th:only-of-type {\n",
       "        vertical-align: middle;\n",
       "    }\n",
       "\n",
       "    .dataframe tbody tr th {\n",
       "        vertical-align: top;\n",
       "    }\n",
       "\n",
       "    .dataframe thead th {\n",
       "        text-align: right;\n",
       "    }\n",
       "</style>\n",
       "<table border=\"1\" class=\"dataframe\">\n",
       "  <thead>\n",
       "    <tr style=\"text-align: right;\">\n",
       "      <th></th>\n",
       "      <th>customerid</th>\n",
       "      <th>name</th>\n",
       "      <th>address</th>\n",
       "      <th>citystatezip</th>\n",
       "      <th>birthdate</th>\n",
       "      <th>phone</th>\n",
       "      <th>phone_clean</th>\n",
       "      <th>last_name</th>\n",
       "    </tr>\n",
       "  </thead>\n",
       "  <tbody>\n",
       "    <tr>\n",
       "      <th>0</th>\n",
       "      <td>1001</td>\n",
       "      <td>Jack Quinn</td>\n",
       "      <td>201 E Park St</td>\n",
       "      <td>Los Angeles, CA 91343</td>\n",
       "      <td>1960-05-14</td>\n",
       "      <td>805-287-8515</td>\n",
       "      <td>8052878515</td>\n",
       "      <td>[, q, u, i, n, n, ]</td>\n",
       "    </tr>\n",
       "    <tr>\n",
       "      <th>1</th>\n",
       "      <td>1002</td>\n",
       "      <td>David Powell</td>\n",
       "      <td>224C Tysens Ln</td>\n",
       "      <td>Staten Island, NY 10306</td>\n",
       "      <td>1978-04-04</td>\n",
       "      <td>516-768-1652</td>\n",
       "      <td>5167681652</td>\n",
       "      <td>[, p, o, w, e, l, l, ]</td>\n",
       "    </tr>\n",
       "    <tr>\n",
       "      <th>2</th>\n",
       "      <td>1003</td>\n",
       "      <td>Carrie Green</td>\n",
       "      <td>1608 W 53rd Way</td>\n",
       "      <td>Tampa, FL 33614</td>\n",
       "      <td>1969-01-21</td>\n",
       "      <td>727-209-0470</td>\n",
       "      <td>7272090470</td>\n",
       "      <td>[, g, r, e, e, n, ]</td>\n",
       "    </tr>\n",
       "    <tr>\n",
       "      <th>3</th>\n",
       "      <td>1004</td>\n",
       "      <td>Steven Miller</td>\n",
       "      <td>178½ E 7th St</td>\n",
       "      <td>Manhattan, NY 10009</td>\n",
       "      <td>1953-08-17</td>\n",
       "      <td>607-941-9563</td>\n",
       "      <td>6079419563</td>\n",
       "      <td>[, m, i, l, l, e, r, ]</td>\n",
       "    </tr>\n",
       "    <tr>\n",
       "      <th>4</th>\n",
       "      <td>1005</td>\n",
       "      <td>Christine Powers</td>\n",
       "      <td>270 W 242nd St</td>\n",
       "      <td>Bronx, NY 10463</td>\n",
       "      <td>1983-06-06</td>\n",
       "      <td>212-759-9043</td>\n",
       "      <td>2127599043</td>\n",
       "      <td>[, p, o, w, e, r, s, ]</td>\n",
       "    </tr>\n",
       "  </tbody>\n",
       "</table>\n",
       "</div>"
      ],
      "text/plain": [
       "   customerid              name          address             citystatezip  \\\n",
       "0        1001        Jack Quinn    201 E Park St    Los Angeles, CA 91343   \n",
       "1        1002      David Powell   224C Tysens Ln  Staten Island, NY 10306   \n",
       "2        1003      Carrie Green  1608 W 53rd Way          Tampa, FL 33614   \n",
       "3        1004     Steven Miller    178½ E 7th St      Manhattan, NY 10009   \n",
       "4        1005  Christine Powers   270 W 242nd St          Bronx, NY 10463   \n",
       "\n",
       "    birthdate         phone phone_clean               last_name  \n",
       "0  1960-05-14  805-287-8515  8052878515     [, q, u, i, n, n, ]  \n",
       "1  1978-04-04  516-768-1652  5167681652  [, p, o, w, e, l, l, ]  \n",
       "2  1969-01-21  727-209-0470  7272090470     [, g, r, e, e, n, ]  \n",
       "3  1953-08-17  607-941-9563  6079419563  [, m, i, l, l, e, r, ]  \n",
       "4  1983-06-06  212-759-9043  2127599043  [, p, o, w, e, r, s, ]  "
      ]
     },
     "execution_count": 9,
     "metadata": {},
     "output_type": "execute_result"
    }
   ],
   "source": [
    "df.head()"
   ]
  },
  {
   "cell_type": "code",
   "execution_count": 10,
   "id": "f0842594",
   "metadata": {},
   "outputs": [
    {
     "data": {
      "text/html": [
       "<div>\n",
       "<style scoped>\n",
       "    .dataframe tbody tr th:only-of-type {\n",
       "        vertical-align: middle;\n",
       "    }\n",
       "\n",
       "    .dataframe tbody tr th {\n",
       "        vertical-align: top;\n",
       "    }\n",
       "\n",
       "    .dataframe thead th {\n",
       "        text-align: right;\n",
       "    }\n",
       "</style>\n",
       "<table border=\"1\" class=\"dataframe\">\n",
       "  <thead>\n",
       "    <tr style=\"text-align: right;\">\n",
       "      <th></th>\n",
       "      <th>customerid</th>\n",
       "      <th>name</th>\n",
       "      <th>address</th>\n",
       "      <th>citystatezip</th>\n",
       "      <th>birthdate</th>\n",
       "      <th>phone</th>\n",
       "      <th>phone_clean</th>\n",
       "      <th>last_name</th>\n",
       "    </tr>\n",
       "  </thead>\n",
       "  <tbody>\n",
       "    <tr>\n",
       "      <th>0</th>\n",
       "      <td>1001</td>\n",
       "      <td>Jack Quinn</td>\n",
       "      <td>201 E Park St</td>\n",
       "      <td>Los Angeles, CA 91343</td>\n",
       "      <td>1960-05-14</td>\n",
       "      <td>805-287-8515</td>\n",
       "      <td>8052878515</td>\n",
       "      <td>[, q, u, i, n, n, ]</td>\n",
       "    </tr>\n",
       "    <tr>\n",
       "      <th>1</th>\n",
       "      <td>1002</td>\n",
       "      <td>David Powell</td>\n",
       "      <td>224C Tysens Ln</td>\n",
       "      <td>Staten Island, NY 10306</td>\n",
       "      <td>1978-04-04</td>\n",
       "      <td>516-768-1652</td>\n",
       "      <td>5167681652</td>\n",
       "      <td>[, p, o, w, e, l, l, ]</td>\n",
       "    </tr>\n",
       "    <tr>\n",
       "      <th>2</th>\n",
       "      <td>1003</td>\n",
       "      <td>Carrie Green</td>\n",
       "      <td>1608 W 53rd Way</td>\n",
       "      <td>Tampa, FL 33614</td>\n",
       "      <td>1969-01-21</td>\n",
       "      <td>727-209-0470</td>\n",
       "      <td>7272090470</td>\n",
       "      <td>[, g, r, e, e, n, ]</td>\n",
       "    </tr>\n",
       "    <tr>\n",
       "      <th>3</th>\n",
       "      <td>1004</td>\n",
       "      <td>Steven Miller</td>\n",
       "      <td>178½ E 7th St</td>\n",
       "      <td>Manhattan, NY 10009</td>\n",
       "      <td>1953-08-17</td>\n",
       "      <td>607-941-9563</td>\n",
       "      <td>6079419563</td>\n",
       "      <td>[, m, i, l, l, e, r, ]</td>\n",
       "    </tr>\n",
       "    <tr>\n",
       "      <th>4</th>\n",
       "      <td>1005</td>\n",
       "      <td>Christine Powers</td>\n",
       "      <td>270 W 242nd St</td>\n",
       "      <td>Bronx, NY 10463</td>\n",
       "      <td>1983-06-06</td>\n",
       "      <td>212-759-9043</td>\n",
       "      <td>2127599043</td>\n",
       "      <td>[, p, o, w, e, r, s, ]</td>\n",
       "    </tr>\n",
       "    <tr>\n",
       "      <th>5</th>\n",
       "      <td>1006</td>\n",
       "      <td>Amanda Ramirez</td>\n",
       "      <td>183-48 Camden Ave</td>\n",
       "      <td>Saint Albans, NY 11412</td>\n",
       "      <td>1962-07-08</td>\n",
       "      <td>914-421-3167</td>\n",
       "      <td>9144213167</td>\n",
       "      <td>[, r, a, m, i, r, e, z, ]</td>\n",
       "    </tr>\n",
       "  </tbody>\n",
       "</table>\n",
       "</div>"
      ],
      "text/plain": [
       "   customerid              name            address             citystatezip  \\\n",
       "0        1001        Jack Quinn      201 E Park St    Los Angeles, CA 91343   \n",
       "1        1002      David Powell     224C Tysens Ln  Staten Island, NY 10306   \n",
       "2        1003      Carrie Green    1608 W 53rd Way          Tampa, FL 33614   \n",
       "3        1004     Steven Miller      178½ E 7th St      Manhattan, NY 10009   \n",
       "4        1005  Christine Powers     270 W 242nd St          Bronx, NY 10463   \n",
       "5        1006    Amanda Ramirez  183-48 Camden Ave   Saint Albans, NY 11412   \n",
       "\n",
       "    birthdate         phone phone_clean                  last_name  \n",
       "0  1960-05-14  805-287-8515  8052878515        [, q, u, i, n, n, ]  \n",
       "1  1978-04-04  516-768-1652  5167681652     [, p, o, w, e, l, l, ]  \n",
       "2  1969-01-21  727-209-0470  7272090470        [, g, r, e, e, n, ]  \n",
       "3  1953-08-17  607-941-9563  6079419563     [, m, i, l, l, e, r, ]  \n",
       "4  1983-06-06  212-759-9043  2127599043     [, p, o, w, e, r, s, ]  \n",
       "5  1962-07-08  914-421-3167  9144213167  [, r, a, m, i, r, e, z, ]  "
      ]
     },
     "execution_count": 10,
     "metadata": {},
     "output_type": "execute_result"
    }
   ],
   "source": [
    "df.head(6)"
   ]
  },
  {
   "cell_type": "code",
   "execution_count": 11,
   "id": "1752562e",
   "metadata": {},
   "outputs": [],
   "source": [
    "number_list = []\n",
    "for surname in df.last_name:\n",
    "    name_values = []\n",
    "    for char in surname:\n",
    "        for key in number_dictionary:\n",
    "            if char == '':\n",
    "                pass\n",
    "            elif char in key:\n",
    "                name_values.append(number_dictionary[key])\n",
    "                \n",
    "    number_list.append(name_values)\n"
   ]
  },
  {
   "cell_type": "code",
   "execution_count": 13,
   "id": "8a1eca33",
   "metadata": {},
   "outputs": [
    {
     "data": {
      "text/plain": [
       "11080"
      ]
     },
     "execution_count": 13,
     "metadata": {},
     "output_type": "execute_result"
    }
   ],
   "source": [
    "len(number_list)"
   ]
  },
  {
   "cell_type": "code",
   "execution_count": 14,
   "id": "dfcb53e6",
   "metadata": {},
   "outputs": [
    {
     "data": {
      "text/html": [
       "<div>\n",
       "<style scoped>\n",
       "    .dataframe tbody tr th:only-of-type {\n",
       "        vertical-align: middle;\n",
       "    }\n",
       "\n",
       "    .dataframe tbody tr th {\n",
       "        vertical-align: top;\n",
       "    }\n",
       "\n",
       "    .dataframe thead th {\n",
       "        text-align: right;\n",
       "    }\n",
       "</style>\n",
       "<table border=\"1\" class=\"dataframe\">\n",
       "  <thead>\n",
       "    <tr style=\"text-align: right;\">\n",
       "      <th></th>\n",
       "      <th>customerid</th>\n",
       "      <th>name</th>\n",
       "      <th>address</th>\n",
       "      <th>citystatezip</th>\n",
       "      <th>birthdate</th>\n",
       "      <th>phone</th>\n",
       "      <th>phone_clean</th>\n",
       "      <th>last_name</th>\n",
       "    </tr>\n",
       "  </thead>\n",
       "  <tbody>\n",
       "    <tr>\n",
       "      <th>0</th>\n",
       "      <td>1001</td>\n",
       "      <td>Jack Quinn</td>\n",
       "      <td>201 E Park St</td>\n",
       "      <td>Los Angeles, CA 91343</td>\n",
       "      <td>1960-05-14</td>\n",
       "      <td>805-287-8515</td>\n",
       "      <td>8052878515</td>\n",
       "      <td>[, q, u, i, n, n, ]</td>\n",
       "    </tr>\n",
       "    <tr>\n",
       "      <th>1</th>\n",
       "      <td>1002</td>\n",
       "      <td>David Powell</td>\n",
       "      <td>224C Tysens Ln</td>\n",
       "      <td>Staten Island, NY 10306</td>\n",
       "      <td>1978-04-04</td>\n",
       "      <td>516-768-1652</td>\n",
       "      <td>5167681652</td>\n",
       "      <td>[, p, o, w, e, l, l, ]</td>\n",
       "    </tr>\n",
       "    <tr>\n",
       "      <th>2</th>\n",
       "      <td>1003</td>\n",
       "      <td>Carrie Green</td>\n",
       "      <td>1608 W 53rd Way</td>\n",
       "      <td>Tampa, FL 33614</td>\n",
       "      <td>1969-01-21</td>\n",
       "      <td>727-209-0470</td>\n",
       "      <td>7272090470</td>\n",
       "      <td>[, g, r, e, e, n, ]</td>\n",
       "    </tr>\n",
       "    <tr>\n",
       "      <th>3</th>\n",
       "      <td>1004</td>\n",
       "      <td>Steven Miller</td>\n",
       "      <td>178½ E 7th St</td>\n",
       "      <td>Manhattan, NY 10009</td>\n",
       "      <td>1953-08-17</td>\n",
       "      <td>607-941-9563</td>\n",
       "      <td>6079419563</td>\n",
       "      <td>[, m, i, l, l, e, r, ]</td>\n",
       "    </tr>\n",
       "    <tr>\n",
       "      <th>4</th>\n",
       "      <td>1005</td>\n",
       "      <td>Christine Powers</td>\n",
       "      <td>270 W 242nd St</td>\n",
       "      <td>Bronx, NY 10463</td>\n",
       "      <td>1983-06-06</td>\n",
       "      <td>212-759-9043</td>\n",
       "      <td>2127599043</td>\n",
       "      <td>[, p, o, w, e, r, s, ]</td>\n",
       "    </tr>\n",
       "  </tbody>\n",
       "</table>\n",
       "</div>"
      ],
      "text/plain": [
       "   customerid              name          address             citystatezip  \\\n",
       "0        1001        Jack Quinn    201 E Park St    Los Angeles, CA 91343   \n",
       "1        1002      David Powell   224C Tysens Ln  Staten Island, NY 10306   \n",
       "2        1003      Carrie Green  1608 W 53rd Way          Tampa, FL 33614   \n",
       "3        1004     Steven Miller    178½ E 7th St      Manhattan, NY 10009   \n",
       "4        1005  Christine Powers   270 W 242nd St          Bronx, NY 10463   \n",
       "\n",
       "    birthdate         phone phone_clean               last_name  \n",
       "0  1960-05-14  805-287-8515  8052878515     [, q, u, i, n, n, ]  \n",
       "1  1978-04-04  516-768-1652  5167681652  [, p, o, w, e, l, l, ]  \n",
       "2  1969-01-21  727-209-0470  7272090470     [, g, r, e, e, n, ]  \n",
       "3  1953-08-17  607-941-9563  6079419563  [, m, i, l, l, e, r, ]  \n",
       "4  1983-06-06  212-759-9043  2127599043  [, p, o, w, e, r, s, ]  "
      ]
     },
     "execution_count": 14,
     "metadata": {},
     "output_type": "execute_result"
    }
   ],
   "source": [
    "df.head()"
   ]
  },
  {
   "cell_type": "code",
   "execution_count": 15,
   "id": "93c34d97",
   "metadata": {},
   "outputs": [],
   "source": [
    "num_join_list = []\n",
    "for phone_num in number_list:\n",
    "    if phone_num == '':\n",
    "        pass\n",
    "    else:\n",
    "       num_join_list.append(''.join(map(str, phone_num)))"
   ]
  },
  {
   "cell_type": "code",
   "execution_count": 19,
   "id": "d4ab6007",
   "metadata": {},
   "outputs": [
    {
     "data": {
      "text/plain": [
       "(array([2187]),)"
      ]
     },
     "execution_count": 19,
     "metadata": {},
     "output_type": "execute_result"
    }
   ],
   "source": [
    "detective_name"
   ]
  },
  {
   "cell_type": "code",
   "execution_count": 20,
   "id": "c21c0587",
   "metadata": {},
   "outputs": [
    {
     "data": {
      "text/plain": [
       "customerid                                     3188\n",
       "name                                 Sam Guttenberg\n",
       "address                               221 Banker St\n",
       "citystatezip                     Brooklyn, NY 11222\n",
       "birthdate                                1998-05-30\n",
       "phone                                  488-836-2374\n",
       "phone_clean                              4888362374\n",
       "last_name        [, g, u, t, t, e, n, b, e, r, g, ]\n",
       "phone_by_name                            4888362374\n",
       "Name: 2187, dtype: object"
      ]
     },
     "execution_count": 20,
     "metadata": {},
     "output_type": "execute_result"
    }
   ],
   "source": [
    "df.iloc[2187]"
   ]
  },
  {
   "cell_type": "code",
   "execution_count": null,
   "id": "bda140eb",
   "metadata": {},
   "outputs": [],
   "source": []
  }
 ],
 "metadata": {
  "kernelspec": {
   "display_name": "Python 3 (ipykernel)",
   "language": "python",
   "name": "python3"
  },
  "language_info": {
   "codemirror_mode": {
    "name": "ipython",
    "version": 3
   },
   "file_extension": ".py",
   "mimetype": "text/x-python",
   "name": "python",
   "nbconvert_exporter": "python",
   "pygments_lexer": "ipython3",
   "version": "3.8.12"
  },
  "toc": {
   "base_numbering": 1,
   "nav_menu": {},
   "number_sections": true,
   "sideBar": true,
   "skip_h1_title": false,
   "title_cell": "Table of Contents",
   "title_sidebar": "Contents",
   "toc_cell": false,
   "toc_position": {},
   "toc_section_display": true,
   "toc_window_display": false
  }
 },
 "nbformat": 4,
 "nbformat_minor": 5
}
